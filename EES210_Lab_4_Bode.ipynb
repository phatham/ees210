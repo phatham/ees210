{
  "nbformat": 4,
  "nbformat_minor": 0,
  "metadata": {
    "colab": {
      "provenance": []
    },
    "kernelspec": {
      "name": "python3",
      "display_name": "Python 3"
    },
    "language_info": {
      "name": "python"
    }
  },
  "cells": [
    {
      "cell_type": "code",
      "source": [
        "import numpy as np\n",
        "import matplotlib.pyplot as plt"
      ],
      "metadata": {
        "id": "Vl01Uzl220En"
      },
      "execution_count": null,
      "outputs": []
    },
    {
      "cell_type": "code",
      "execution_count": null,
      "metadata": {
        "id": "uRzc_mFH1Xzh"
      },
      "outputs": [],
      "source": [
        "R = # fill in such as 5.XXXe3\n",
        "C = # fill in such as 10.XXXe-9\n",
        "def gain_lpf(omega):\n",
        "    if type(omega) != np.ndarray and omega < 1e-10:\n",
        "        omega = 1e-10\n",
        "    X_C = 1/(1j*omega*C)\n",
        "    return X_C / (R+X_C)\n",
        "\n",
        "def gain_hpf(omega):\n",
        "    if type(omega) != np.ndarray and omega < 1e-10:\n",
        "        omega = 1e-10\n",
        "    X_C = 1/(1j*omega*C)\n",
        "    return R / (R+X_C)\n",
        "    \n",
        "def gain_bpf(omega):\n",
        "    if type(omega) != np.ndarray and omega < 1e-10:\n",
        "        omega = 1e-10\n",
        "    X_C = 1/(1j*omega*C)\n",
        "    branch_1 = X_C\n",
        "    branch_2 = X_C + R\n",
        "    combined = 1/(1/branch_1 + 1/branch_2)\n",
        "    divider_1 = combined / (R + combined) # first voltage divider\n",
        "    return (R / (X_C + R)) * divider_1 # second voltage divider"
      ]
    },
    {
      "cell_type": "code",
      "source": [
        "def magnitude(value):\n",
        "    if type(value) == list:\n",
        "        value = np.array(value)\n",
        "    return 20*np.log10(np.abs(value))\n",
        "\n",
        "def phase(value):\n",
        "    if type(value) == list:\n",
        "        value = np.array(value)\n",
        "    return np.angle(value, deg=True)"
      ],
      "metadata": {
        "id": "NnT4SDo12riz"
      },
      "execution_count": null,
      "outputs": []
    },
    {
      "cell_type": "code",
      "source": [
        "omega = 2*(10 ** np.arange(2, 6, 0.01))"
      ],
      "metadata": {
        "id": "cb9rE2bS27Ex"
      },
      "execution_count": null,
      "outputs": []
    },
    {
      "cell_type": "code",
      "source": [
        "from matplotlib import pyplot as plt"
      ],
      "metadata": {
        "id": "zDJrrrZc4bYw"
      },
      "execution_count": null,
      "outputs": []
    },
    {
      "cell_type": "code",
      "source": [
        "# values in krad/s, volt peak-peak, phase difference in us\n",
        "plot_values = np.array([\n",
        "    [2, 4.975, -52.1],\n",
        "    [20, 3.516, -40.25],\n",
        "    [200, 0.4787, -6.872],\n",
        "])\n",
        "plot_omega = plot_values[:, 0] * 1000\n",
        "plot_magnitude = 20*np.log10(plot_values[:, 1] / 5) # assume V in is constant\n",
        "plot_phase = (plot_values[:, 2] / 1000000) * plot_omega / (2*np.pi) * 360\n",
        "\n",
        "main_gain = gain_lpf(omega)\n",
        "\n",
        "plt.figure(figsize=(5, 8))\n",
        "plt.subplot(2, 1, 1)\n",
        "plt.semilogx(omega, magnitude(main_gain), '--')\n",
        "plt.scatter(plot_omega, plot_magnitude)\n",
        "plt.grid()\n",
        "plt.ylabel('Gain [dB]')\n",
        "plt.subplot(2, 1, 2)\n",
        "plt.semilogx(omega, phase(main_gain), '--')\n",
        "plt.scatter(plot_omega, plot_phase)\n",
        "plt.grid()\n",
        "plt.xlabel('Frequency [rad/s]')\n",
        "plt.ylabel('Phase [deg]')"
      ],
      "metadata": {
        "id": "_gGrIKf64gQA"
      },
      "execution_count": null,
      "outputs": []
    },
    {
      "cell_type": "code",
      "source": [
        "# values in krad/s, volt peak-peak, phase difference in us\n",
        "plot_values = np.array([\n",
        "    [2, 0.497, 749],\n",
        "    [20, 3.518, 37.2],\n",
        "    [200, 4.905, 0.982],\n",
        "])\n",
        "plot_omega = plot_values[:, 0] * 1000\n",
        "plot_magnitude = 20*np.log10(plot_values[:, 1] / 5) # assume V in is constant\n",
        "plot_phase = (plot_values[:, 2] / 1000000) * plot_omega / (2*np.pi) * 360\n",
        "\n",
        "main_gain = gain_hpf(omega)\n",
        "\n",
        "plt.figure(figsize=(5, 8))\n",
        "plt.subplot(2, 1, 1)\n",
        "plt.semilogx(omega, magnitude(main_gain), '--')\n",
        "plt.scatter(plot_omega, plot_magnitude)\n",
        "plt.grid()\n",
        "plt.ylabel('Gain [dB]')\n",
        "plt.subplot(2, 1, 2)\n",
        "plt.semilogx(omega, phase(main_gain), '--')\n",
        "plt.scatter(plot_omega, plot_phase)\n",
        "plt.grid()\n",
        "plt.xlabel('Frequency [rad/s]')\n",
        "plt.ylabel('Phase [deg]')"
      ],
      "metadata": {
        "id": "1Cn1ZZyQ5Qlk"
      },
      "execution_count": null,
      "outputs": []
    },
    {
      "cell_type": "code",
      "source": [
        "# values in krad/s, volt peak-peak, phase difference in us\n",
        "plot_values = np.array([\n",
        "    [2, 0.4833, 639],\n",
        "    [20, 1.661, 0.1],\n",
        "    [200, 0.5082, -6.071],\n",
        "])\n",
        "plot_omega = plot_values[:, 0] * 1000\n",
        "plot_magnitude = 20*np.log10(plot_values[:, 1] / 5) # assume V in is constant\n",
        "plot_phase = (plot_values[:, 2] / 1000000) * plot_omega / (2*np.pi) * 360\n",
        "\n",
        "main_gain = gain_bpf(omega)\n",
        "\n",
        "plt.figure(figsize=(5, 8))\n",
        "plt.subplot(2, 1, 1)\n",
        "plt.semilogx(omega, magnitude(main_gain), '--')\n",
        "plt.scatter(plot_omega, plot_magnitude)\n",
        "plt.grid()\n",
        "plt.ylabel('Gain [dB]')\n",
        "plt.subplot(2, 1, 2)\n",
        "plt.semilogx(omega, phase(main_gain), '--')\n",
        "plt.scatter(plot_omega, plot_phase)\n",
        "plt.grid()\n",
        "plt.xlabel('Frequency [rad/s]')\n",
        "plt.ylabel('Phase [deg]')"
      ],
      "metadata": {
        "id": "mHdBVxPV5Zcr"
      },
      "execution_count": null,
      "outputs": []
    }
  ]
}